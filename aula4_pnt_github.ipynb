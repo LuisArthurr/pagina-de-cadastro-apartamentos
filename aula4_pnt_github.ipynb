{
  "nbformat": 4,
  "nbformat_minor": 0,
  "metadata": {
    "colab": {
      "provenance": [],
      "authorship_tag": "ABX9TyNDJQZnHaSBfNPLxJHV28zY",
      "include_colab_link": true
    },
    "kernelspec": {
      "name": "python3",
      "display_name": "Python 3"
    },
    "language_info": {
      "name": "python"
    }
  },
  "cells": [
    {
      "cell_type": "markdown",
      "metadata": {
        "id": "view-in-github",
        "colab_type": "text"
      },
      "source": [
        "<a href=\"https://colab.research.google.com/github/LuisArthurr/repo-teste/blob/main/aula4_pnt_github.ipynb\" target=\"_parent\"><img src=\"https://colab.research.google.com/assets/colab-badge.svg\" alt=\"Open In Colab\"/></a>"
      ]
    },
    {
      "cell_type": "code",
      "execution_count": null,
      "metadata": {
        "id": "r839YsdJpXOY"
      },
      "outputs": [],
      "source": [
        "# ETE CÍCERO DIAS\n",
        "# DOCENTE : CLOVES\n",
        "# ESTUDANTE : Luís Arthur\n",
        "\n",
        "# print('Luís Arthur')\n",
        "c= 'Luís Arthur'\n",
        "print(type(c))"
      ]
    }
  ]
}